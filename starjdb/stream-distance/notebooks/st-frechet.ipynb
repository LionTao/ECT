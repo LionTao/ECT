{
 "cells": [
  {
   "cell_type": "code",
   "execution_count": 100,
   "metadata": {
    "ExecuteTime": {
     "start_time": "2023-04-27T23:02:41.050233Z",
     "end_time": "2023-04-27T23:02:41.086040Z"
    }
   },
   "outputs": [
    {
     "name": "stdout",
     "output_type": "stream",
     "text": [
      "HIT\n",
      "130.0 130.0\n",
      "[[154. 152.  60. 183.  58.]\n",
      " [145. 143.  51. 174.  49.]\n",
      " [109. 107.  15. 138.  13.]\n",
      " [101.  99.   7. 130.   5.]\n",
      " [121. 119.  27. 150.  25.]]\n",
      "[[  0.  inf  inf  inf  inf  inf]\n",
      " [ inf 154. 154. 154. 183. 183.]\n",
      " [ inf 154. 154. 154. 174. 174.]\n",
      " [ inf 154. 154.  15. 138. 138.]\n",
      " [ inf 154. 154.  15. 130. 130.]\n",
      " [ inf 154. 154.  27. 150. 130.]]\n",
      "True\n"
     ]
    }
   ],
   "source": [
    "%matplotlib inline\n",
    "from matplotlib import pyplot as plt\n",
    "import operator\n",
    "from scipy.spatial.distance import cdist\n",
    "from typing import Callable, Tuple\n",
    "from scipy.spatial.distance import euclidean\n",
    "import numpy as np\n",
    "from collections import deque\n",
    "\n",
    "\n",
    "class STFrechet:\n",
    "    def __init__(self, a: np.ndarray, b: np.ndarray, dist: Callable[[np.ndarray, np.ndarray], float]):\n",
    "        self.a = a\n",
    "        self.b = b\n",
    "        self.dist_func = dist\n",
    "        self.dist_matrix = cdist(a, b, self.dist_func)\n",
    "        self.cost, self.C = self.full()\n",
    "        self.path = []\n",
    "\n",
    "    def find_path(self):\n",
    "        t0 = self.a\n",
    "        t1 = self.b\n",
    "        C = self.C\n",
    "        n0 = len(t0)\n",
    "        n1 = len(t1)\n",
    "        if C[n0, n1] == self.cost:\n",
    "            self.path = sorted(map(tuple, np.argwhere(C == self.cost).tolist()), key=operator.itemgetter(0, 1))\n",
    "            return self.path\n",
    "        queue = deque([(n0, n1)])\n",
    "        path = {(n0, n1)}\n",
    "\n",
    "        while queue:\n",
    "            i, j = queue.popleft()\n",
    "            if i == j == 1:\n",
    "                continue\n",
    "            candidates = [\n",
    "                C[i - 1, j - 1],\n",
    "                C[i, j - 1],\n",
    "                C[i - 1, j],\n",
    "            ]\n",
    "            king = min(candidates)\n",
    "            for x, y in [(i - 1, j), (i - 1, j), (i - 1, j - 1)]:\n",
    "                if C[x, y] == king:\n",
    "                    queue.append((x, y))\n",
    "                    path.add((x, y))\n",
    "        self.path = sorted(path, key=operator.itemgetter(0, 1))\n",
    "        return self.path\n",
    "\n",
    "    def move(self, a_remove: int = 0, b_remove: int = 0, a_add: np.ndarray = None, b_add: np.ndarray = None):\n",
    "        next_start: Tuple[int, int] = (a_remove + 1, b_remove + 1)\n",
    "\n",
    "        # if self.C[next_start]!=self.cost:\n",
    "        if next_start not in self.find_path():\n",
    "            if a_remove > 0:\n",
    "                self.a = self.a[a_remove:]\n",
    "            if b_remove > 0:\n",
    "                self.b = self.b[b_remove:]\n",
    "            if a_add is not None:\n",
    "                self.a = np.vstack([self.a, a_add])\n",
    "            if b_add is not None:\n",
    "                self.b = np.vstack([self.b, b_add])\n",
    "\n",
    "            self.dist_matrix = cdist(self.a, self.b, self.dist_func)\n",
    "\n",
    "            self.cost, self.C = self.full()\n",
    "\n",
    "            return self.cost, False\n",
    "        else:\n",
    "            if a_add is not None or b_add is not None:\n",
    "                self.cost = self.add(a_add, b_add)\n",
    "            next_start: Tuple[int, int] = (a_remove + 1, b_remove + 1)\n",
    "            # if self.C[next_start]==self.cost:\n",
    "            if next_start in self.find_path():\n",
    "                if a_remove > 0 or b_remove > 0:\n",
    "                    self.cost = self.remove(a_remove, b_remove)\n",
    "                    return self.cost, True  # indicate hit\n",
    "            else:\n",
    "                if a_remove > 0 or b_remove > 0:\n",
    "                    if a_remove > 0:\n",
    "                        self.a = self.a[a_remove:]\n",
    "                    if b_remove > 0:\n",
    "                        self.b = self.b[b_remove:]\n",
    "                    self.dist_matrix = cdist(self.a, self.b, self.dist_func)\n",
    "                    self.cost, self.C = self.full()\n",
    "                # return and call full in async\n",
    "                return self.cost, False\n",
    "\n",
    "    def remove(self, a_remove, b_remove):\n",
    "        # hit\n",
    "        print(\"HIT\")\n",
    "        # frechet need to regenerate through path\n",
    "        # find path using bfs\n",
    "        C = self.C\n",
    "\n",
    "        path = self.path\n",
    "\n",
    "        idx = path.index((a_remove + 1, b_remove + 1))\n",
    "        self.C[a_remove + 1, b_remove + 1] = self.dist_matrix[a_remove, b_remove]\n",
    "        for c in range(idx + 1, len(path)):\n",
    "            i, j = path[c][0], path[c][1]\n",
    "            candidates = [\n",
    "                C[i - 1, j - 1],\n",
    "                C[i, j - 1],\n",
    "                C[i - 1, j],\n",
    "            ]\n",
    "            king = min(candidates)\n",
    "            C[i, j] = max(self.dist_matrix[i - 1, j - 1], king)\n",
    "        n0, n1 = path[-1]\n",
    "        self.cost = self.C[n0, n1]\n",
    "        return self.cost\n",
    "\n",
    "    def add(self, a_add: np.ndarray, b_add: np.ndarray):\n",
    "        if a_add is not None:\n",
    "            self.dist_matrix = np.vstack([self.dist_matrix, cdist(a_add, self.b)])\n",
    "            self.a = np.vstack([self.a, a_add])\n",
    "        if b_add is not None:\n",
    "            self.dist_matrix = np.hstack([self.dist_matrix, cdist(self.a, b_add)])\n",
    "            self.b = np.vstack([self.b, b_add])\n",
    "        t0 = self.a\n",
    "        t1 = self.b\n",
    "        n0 = len(t0)\n",
    "        n1 = len(t1)\n",
    "        C = np.zeros((n0 + 1, n1 + 1))\n",
    "        C[1:, 0] = float('inf')\n",
    "        C[0, 1:] = float('inf')\n",
    "        ori0, ori1 = self.C.shape\n",
    "        C[:ori0, :ori1] = self.C\n",
    "        for i in np.arange(1, ori0):\n",
    "            for j in np.arange(ori1, n1 + 1):\n",
    "                candidates = [\n",
    "                    C[i - 1, j - 1],\n",
    "                    C[i, j - 1],\n",
    "                    C[i - 1, j],\n",
    "                ]\n",
    "                king = min(candidates)\n",
    "                C[i, j] = max(self.dist_matrix[i - 1, j - 1], king)\n",
    "        for i in np.arange(ori0, n0 + 1):\n",
    "            for j in np.arange(1, n1 + 1):\n",
    "                candidates = [\n",
    "                    C[i - 1, j - 1],\n",
    "                    C[i, j - 1],\n",
    "                    C[i - 1, j],\n",
    "                ]\n",
    "                king = min(candidates)\n",
    "                C[i, j] = max(self.dist_matrix[i - 1, j - 1], king)\n",
    "\n",
    "        dtw = C[n0, n1]\n",
    "        self.cost, self.C = dtw, C\n",
    "\n",
    "        # print(f\"add: {t5 - t4}\")\n",
    "        return dtw\n",
    "\n",
    "    def full(self):\n",
    "        t0 = self.a\n",
    "        t1 = self.b\n",
    "        n0 = len(t0)\n",
    "        n1 = len(t1)\n",
    "        C = np.zeros((n0 + 1, n1 + 1))\n",
    "        C[1:, 0] = float('inf')\n",
    "        C[0, 1:] = float('inf')\n",
    "        for i in np.arange(n0) + 1:\n",
    "            for j in np.arange(n1) + 1:\n",
    "                candidates = [\n",
    "                    C[i - 1, j - 1],\n",
    "                    C[i, j - 1],\n",
    "                    C[i - 1, j],\n",
    "                ]\n",
    "                king = min(candidates)\n",
    "                C[i, j] = max(self.dist_matrix[i - 1, j - 1], king)\n",
    "        dtw = C[n0, n1]\n",
    "        # print(f\"full: {t5-t4}\")\n",
    "        return dtw, C\n",
    "\n",
    "\n",
    "a = np.asarray([[197],\n",
    "                [188],\n",
    "                [152],\n",
    "                [144],\n",
    "                [164]])\n",
    "b = np.asarray([[43],\n",
    "                [45],\n",
    "                [137],\n",
    "                [14],\n",
    "                [139]])\n",
    "\n",
    "truth = STFrechet(a[2:], b[2:], euclidean)\n",
    "our = STFrechet(a[:3], b[:3], euclidean)\n",
    "our.move(2, 2, a_add=a[3:], b_add=b[3:])\n",
    "print(truth.cost, our.cost)\n",
    "print(our.dist_matrix)\n",
    "print(our.C)\n",
    "print(truth.cost == our.cost)"
   ]
  },
  {
   "cell_type": "code",
   "execution_count": 69,
   "outputs": [
    {
     "data": {
      "text/plain": "  0%|          | 0/20 [00:00<?, ?it/s]",
      "application/vnd.jupyter.widget-view+json": {
       "version_major": 2,
       "version_minor": 0,
       "model_id": "4351fe818e804856b65507bb02bb6838"
      }
     },
     "metadata": {},
     "output_type": "display_data"
    },
    {
     "name": "stdout",
     "output_type": "stream",
     "text": [
      "HIT\n",
      "HIT\n",
      "HIT\n",
      "2.9162559463 2.62279836555 0.14018425175\n",
      "5\n"
     ]
    }
   ],
   "source": [
    "from scipy.spatial.distance import euclidean\n",
    "import time\n",
    "from tqdm.autonotebook import tqdm\n",
    "import numpy as np\n",
    "\n",
    "\n",
    "def discret_frechet(t0, t1):\n",
    "    \"\"\"\n",
    "    Usage\n",
    "    -----\n",
    "    Compute the discret frechet distance between trajectories P and Q\n",
    "    Parameters\n",
    "    ----------\n",
    "    param t0 : px2 numpy_array, Trajectory t0\n",
    "    param t1 : qx2 numpy_array, Trajectory t1\n",
    "    Returns\n",
    "    -------\n",
    "    frech : float, the discret frechet distance between trajectories t0 and t1\n",
    "    \"\"\"\n",
    "    n0 = len(t0)\n",
    "    n1 = len(t1)\n",
    "    C = np.zeros((n0 + 1, n1 + 1))\n",
    "    C[1:, 0] = float('inf')\n",
    "    C[0, 1:] = float('inf')\n",
    "    for i in np.arange(n0) + 1:\n",
    "        for j in np.arange(n1) + 1:\n",
    "            C[i, j] = max(euclidean(t0[i - 1], t1[j - 1]), min(C[i, j - 1], C[i - 1, j - 1], C[i - 1, j]))\n",
    "    dtw = C[n0, n1]\n",
    "    return dtw\n",
    "\n",
    "\n",
    "DATASET = 20\n",
    "WINDOW = 700\n",
    "STEP = 2\n",
    "loose = 0\n",
    "truth_t = 0\n",
    "ours_t = 0\n",
    "hit_t = 0\n",
    "hit_c = 0\n",
    "for _ in tqdm(range(DATASET)):\n",
    "    a = np.random.randint(0, 200, (WINDOW + STEP, 1))\n",
    "    b = np.random.randint(0, 200, (WINDOW + STEP, 1))\n",
    "    t1 = time.perf_counter_ns()\n",
    "    truth = discret_frechet(a[2:], b[2:])\n",
    "    t2 = time.perf_counter_ns()\n",
    "    our = STFrechet(a[:500], b[:500], euclidean)\n",
    "    t3 = time.perf_counter_ns()\n",
    "    o, hit = our.move(2, 2, a_add=a[500:], b_add=b[500:])\n",
    "    t4 = time.perf_counter_ns()\n",
    "    truth_t += t2 - t1\n",
    "    ours_t += t4 - t3\n",
    "    if hit:\n",
    "        hit_c += 1\n",
    "        hit_t += t4 - t3\n",
    "    if (t4 - t3 > t2 - t1):\n",
    "        loose += 1\n",
    "    #     print(t4 - t3, t2 - t1)\n",
    "    if truth != o:\n",
    "        print(truth.cost)\n",
    "        print(o)\n",
    "        print(truth.C)\n",
    "        print(our.C)\n",
    "        print(our.dist_matrix)\n",
    "        print(a)\n",
    "        print(b)\n",
    "        assert False\n",
    "print(truth_t / 1e9 / DATASET, ours_t / 1e9 / DATASET, hit_t / 1e9 / DATASET)\n",
    "print(loose)"
   ],
   "metadata": {
    "collapsed": false,
    "ExecuteTime": {
     "start_time": "2023-04-27T21:17:04.913267Z",
     "end_time": "2023-04-27T21:19:25.114941Z"
    }
   }
  },
  {
   "cell_type": "code",
   "execution_count": 163,
   "outputs": [
    {
     "data": {
      "text/plain": "  0%|          | 0/20 [00:00<?, ?it/s]",
      "application/vnd.jupyter.widget-view+json": {
       "version_major": 2,
       "version_minor": 0,
       "model_id": "c3b361e86c1340278ef4ab9648c2122d"
      }
     },
     "metadata": {},
     "output_type": "display_data"
    },
    {
     "ename": "KeyboardInterrupt",
     "evalue": "",
     "output_type": "error",
     "traceback": [
      "\u001B[0;31m---------------------------------------------------------------------------\u001B[0m",
      "\u001B[0;31mKeyboardInterrupt\u001B[0m                         Traceback (most recent call last)",
      "Cell \u001B[0;32mIn[163], line 45\u001B[0m\n\u001B[1;32m     43\u001B[0m b \u001B[38;5;241m=\u001B[39m np\u001B[38;5;241m.\u001B[39mrandom\u001B[38;5;241m.\u001B[39mrandint(\u001B[38;5;241m0\u001B[39m, \u001B[38;5;241m200\u001B[39m, (WINDOW \u001B[38;5;241m+\u001B[39m STEP, \u001B[38;5;241m1\u001B[39m))\n\u001B[1;32m     44\u001B[0m t1 \u001B[38;5;241m=\u001B[39m time\u001B[38;5;241m.\u001B[39mperf_counter_ns()\n\u001B[0;32m---> 45\u001B[0m truth \u001B[38;5;241m=\u001B[39m \u001B[43mdiscret_frechet\u001B[49m\u001B[43m(\u001B[49m\u001B[43ma\u001B[49m\u001B[43m[\u001B[49m\u001B[38;5;241;43m2\u001B[39;49m\u001B[43m:\u001B[49m\u001B[43m]\u001B[49m\u001B[43m,\u001B[49m\u001B[43m \u001B[49m\u001B[43mb\u001B[49m\u001B[43m[\u001B[49m\u001B[38;5;241;43m2\u001B[39;49m\u001B[43m:\u001B[49m\u001B[43m]\u001B[49m\u001B[43m)\u001B[49m\n\u001B[1;32m     46\u001B[0m t2 \u001B[38;5;241m=\u001B[39m time\u001B[38;5;241m.\u001B[39mperf_counter_ns()\n\u001B[1;32m     47\u001B[0m our \u001B[38;5;241m=\u001B[39m STFrechet(a[:\u001B[38;5;241m500\u001B[39m], b[:\u001B[38;5;241m500\u001B[39m], euclidean)\n",
      "Cell \u001B[0;32mIn[163], line 28\u001B[0m, in \u001B[0;36mdiscret_frechet\u001B[0;34m(t0, t1)\u001B[0m\n\u001B[1;32m     26\u001B[0m \u001B[38;5;28;01mfor\u001B[39;00m i \u001B[38;5;129;01min\u001B[39;00m np\u001B[38;5;241m.\u001B[39marange(n0) \u001B[38;5;241m+\u001B[39m \u001B[38;5;241m1\u001B[39m:\n\u001B[1;32m     27\u001B[0m     \u001B[38;5;28;01mfor\u001B[39;00m j \u001B[38;5;129;01min\u001B[39;00m np\u001B[38;5;241m.\u001B[39marange(n1) \u001B[38;5;241m+\u001B[39m \u001B[38;5;241m1\u001B[39m:\n\u001B[0;32m---> 28\u001B[0m         C[i, j] \u001B[38;5;241m=\u001B[39m \u001B[38;5;28mmax\u001B[39m(euclidean(t0[i \u001B[38;5;241m-\u001B[39m \u001B[38;5;241m1\u001B[39m], t1[j \u001B[38;5;241m-\u001B[39m \u001B[38;5;241m1\u001B[39m]), \u001B[38;5;28;43mmin\u001B[39;49m\u001B[43m(\u001B[49m\u001B[43mC\u001B[49m\u001B[43m[\u001B[49m\u001B[43mi\u001B[49m\u001B[43m,\u001B[49m\u001B[43m \u001B[49m\u001B[43mj\u001B[49m\u001B[43m \u001B[49m\u001B[38;5;241;43m-\u001B[39;49m\u001B[43m \u001B[49m\u001B[38;5;241;43m1\u001B[39;49m\u001B[43m]\u001B[49m\u001B[43m,\u001B[49m\u001B[43m \u001B[49m\u001B[43mC\u001B[49m\u001B[43m[\u001B[49m\u001B[43mi\u001B[49m\u001B[43m \u001B[49m\u001B[38;5;241;43m-\u001B[39;49m\u001B[43m \u001B[49m\u001B[38;5;241;43m1\u001B[39;49m\u001B[43m,\u001B[49m\u001B[43m \u001B[49m\u001B[43mj\u001B[49m\u001B[43m \u001B[49m\u001B[38;5;241;43m-\u001B[39;49m\u001B[43m \u001B[49m\u001B[38;5;241;43m1\u001B[39;49m\u001B[43m]\u001B[49m\u001B[43m,\u001B[49m\u001B[43m \u001B[49m\u001B[43mC\u001B[49m\u001B[43m[\u001B[49m\u001B[43mi\u001B[49m\u001B[43m \u001B[49m\u001B[38;5;241;43m-\u001B[39;49m\u001B[43m \u001B[49m\u001B[38;5;241;43m1\u001B[39;49m\u001B[43m,\u001B[49m\u001B[43m \u001B[49m\u001B[43mj\u001B[49m\u001B[43m]\u001B[49m\u001B[43m)\u001B[49m)\n\u001B[1;32m     29\u001B[0m dtw \u001B[38;5;241m=\u001B[39m C[n0, n1]\n\u001B[1;32m     30\u001B[0m \u001B[38;5;28;01mreturn\u001B[39;00m dtw\n",
      "\u001B[0;31mKeyboardInterrupt\u001B[0m: "
     ]
    }
   ],
   "source": [
    "# random_add\n",
    "from scipy.spatial.distance import euclidean\n",
    "import time\n",
    "from tqdm.autonotebook import tqdm\n",
    "import numpy as np\n",
    "\n",
    "\n",
    "def discret_frechet(t0, t1):\n",
    "    \"\"\"\n",
    "    Usage\n",
    "    -----\n",
    "    Compute the discret frechet distance between trajectories P and Q\n",
    "    Parameters\n",
    "    ----------\n",
    "    param t0 : px2 numpy_array, Trajectory t0\n",
    "    param t1 : qx2 numpy_array, Trajectory t1\n",
    "    Returns\n",
    "    -------\n",
    "    frech : float, the discret frechet distance between trajectories t0 and t1\n",
    "    \"\"\"\n",
    "    n0 = len(t0)\n",
    "    n1 = len(t1)\n",
    "    C = np.zeros((n0 + 1, n1 + 1))\n",
    "    C[1:, 0] = float('inf')\n",
    "    C[0, 1:] = float('inf')\n",
    "    for i in np.arange(n0) + 1:\n",
    "        for j in np.arange(n1) + 1:\n",
    "            C[i, j] = max(euclidean(t0[i - 1], t1[j - 1]), min(C[i, j - 1], C[i - 1, j - 1], C[i - 1, j]))\n",
    "    dtw = C[n0, n1]\n",
    "    return dtw\n",
    "\n",
    "\n",
    "DATASET = 20\n",
    "WINDOW = 5000\n",
    "STEP = 2\n",
    "loose = 0\n",
    "truth_t = 0\n",
    "ours_t = 0\n",
    "hit_t = 0\n",
    "hit_c = 0\n",
    "for _ in tqdm(range(DATASET)):\n",
    "    a = np.random.randint(0, 200, (WINDOW + STEP, 1))\n",
    "    b = np.random.randint(0, 200, (WINDOW + STEP, 1))\n",
    "    t1 = time.perf_counter_ns()\n",
    "    truth = discret_frechet(a[2:], b[2:])\n",
    "    t2 = time.perf_counter_ns()\n",
    "    our = STFrechet(a[:500], b[:500], euclidean)\n",
    "    t3 = time.perf_counter_ns()\n",
    "    o, hit = our.move(2, 2, a_add=a[500:], b_add=b[500:])\n",
    "    t4 = time.perf_counter_ns()\n",
    "    truth_t += t2 - t1\n",
    "    ours_t += t4 - t3\n",
    "    if hit:\n",
    "        hit_c += 1\n",
    "        hit_t += t4 - t3\n",
    "    if (t4 - t3 > t2 - t1):\n",
    "        loose += 1\n",
    "    #     print(t4 - t3, t2 - t1)\n",
    "    if truth != o:\n",
    "        print(truth.cost)\n",
    "        print(o)\n",
    "        print(truth.C)\n",
    "        print(our.C)\n",
    "        print(our.dist_matrix)\n",
    "        print(a)\n",
    "        print(b)\n",
    "        assert False\n",
    "print(truth_t / 1e9 / DATASET, ours_t / 1e9 / DATASET, hit_t / 1e9 / DATASET)\n",
    "print(loose)"
   ],
   "metadata": {
    "collapsed": false,
    "ExecuteTime": {
     "start_time": "2023-04-27T21:35:26.579791Z",
     "end_time": "2023-04-27T21:36:55.184419Z"
    }
   }
  },
  {
   "cell_type": "code",
   "execution_count": 25,
   "outputs": [
    {
     "name": "stdout",
     "output_type": "stream",
     "text": [
      "CPU times: user 656 µs, sys: 0 ns, total: 656 µs\n",
      "Wall time: 623 µs\n"
     ]
    }
   ],
   "source": [
    "a = np.random.randint(0, 200, (10, 1))\n",
    "b = np.random.randint(0, 200, (10, 1))\n",
    "_ = STFrechet(a[:3], b[:3], euclidean)\n",
    "\n",
    "truth = STFrechet(a[2:], b[2:], euclidean)\n",
    "\n",
    "our = STFrechet(a[:3], b[:3], euclidean)\n",
    "\n",
    "%time o = our.move(2, 2, a_add=a[3:], b_add=b[3:])"
   ],
   "metadata": {
    "collapsed": false,
    "ExecuteTime": {
     "start_time": "2023-04-27T18:56:44.549364Z",
     "end_time": "2023-04-27T18:56:44.619151Z"
    }
   }
  },
  {
   "cell_type": "code",
   "execution_count": 26,
   "outputs": [
    {
     "name": "stdout",
     "output_type": "stream",
     "text": [
      "[[ 85]\n",
      " [ 64]\n",
      " [100]\n",
      " [ 75]\n",
      " [107]\n",
      " [131]\n",
      " [  4]\n",
      " [160]\n",
      " [109]\n",
      " [  3]]\n",
      "[[139]\n",
      " [ 58]\n",
      " [150]\n",
      " [ 78]\n",
      " [100]\n",
      " [ 70]\n",
      " [  7]\n",
      " [184]\n",
      " [129]\n",
      " [146]]\n"
     ]
    }
   ],
   "source": [
    "test_a = a\n",
    "test_b = b\n",
    "print(test_a)\n",
    "print(test_b)"
   ],
   "metadata": {
    "collapsed": false,
    "ExecuteTime": {
     "start_time": "2023-04-27T18:56:44.591465Z",
     "end_time": "2023-04-27T18:56:44.619402Z"
    }
   }
  },
  {
   "cell_type": "code",
   "execution_count": 8,
   "outputs": [
    {
     "ename": "NameError",
     "evalue": "name 'test_a' is not defined",
     "output_type": "error",
     "traceback": [
      "\u001B[0;31m---------------------------------------------------------------------------\u001B[0m",
      "\u001B[0;31mNameError\u001B[0m                                 Traceback (most recent call last)",
      "Cell \u001B[0;32mIn[8], line 1\u001B[0m\n\u001B[0;32m----> 1\u001B[0m bench \u001B[38;5;241m=\u001B[39m STFrechet(\u001B[43mtest_a\u001B[49m[\u001B[38;5;241m2\u001B[39m:], test_b[\u001B[38;5;241m2\u001B[39m:], euclidean)\n\u001B[1;32m      3\u001B[0m bench_out \u001B[38;5;241m=\u001B[39m STFrechet(test_a[:\u001B[38;5;241m3\u001B[39m], test_b[:\u001B[38;5;241m3\u001B[39m], euclidean)\n\u001B[1;32m      5\u001B[0m get_ipython()\u001B[38;5;241m.\u001B[39mrun_line_magic(\u001B[38;5;124m'\u001B[39m\u001B[38;5;124mtime\u001B[39m\u001B[38;5;124m'\u001B[39m, \u001B[38;5;124m'\u001B[39m\u001B[38;5;124mo = bench_out.move(a_add=test_a[3:], b_add=test_b[3:])\u001B[39m\u001B[38;5;124m'\u001B[39m)\n",
      "\u001B[0;31mNameError\u001B[0m: name 'test_a' is not defined"
     ]
    }
   ],
   "source": [
    "bench = STFrechet(test_a[2:], test_b[2:], euclidean)\n",
    "\n",
    "bench_out = STFrechet(test_a[:3], test_b[:3], euclidean)\n",
    "\n",
    "%time o = bench_out.move(a_add=test_a[3:], b_add=test_b[3:])\n",
    "bench_out.C"
   ],
   "metadata": {
    "collapsed": false,
    "ExecuteTime": {
     "start_time": "2023-04-27T18:56:44.591569Z",
     "end_time": "2023-04-27T18:56:44.619655Z"
    }
   }
  },
  {
   "cell_type": "code",
   "execution_count": 83,
   "outputs": [
    {
     "data": {
      "text/plain": "0it [00:00, ?it/s]",
      "application/vnd.jupyter.widget-view+json": {
       "version_major": 2,
       "version_minor": 0,
       "model_id": "436528ba3fdb40529742cbbc12d1e91a"
      }
     },
     "metadata": {},
     "output_type": "display_data"
    },
    {
     "data": {
      "text/plain": "10336"
     },
     "execution_count": 83,
     "metadata": {},
     "output_type": "execute_result"
    }
   ],
   "source": [
    "import pathlib\n",
    "from tqdm.autonotebook import tqdm\n",
    "\n",
    "tasks = []\n",
    "\n",
    "\n",
    "def read_tdrive(fname: pathlib.Path) -> np.ndarray:\n",
    "    with open(fname, 'r') as f:\n",
    "        lines = f.readlines()\n",
    "    res = np.zeros((len(lines), 2))\n",
    "    for idx, l in enumerate(map(str.strip, lines)):\n",
    "        p = l.split(\",\")\n",
    "        res[idx][0] = float(p[2])\n",
    "        res[idx][1] = float(p[3])\n",
    "    return res\n",
    "\n",
    "\n",
    "for i in tqdm(pathlib.Path(\"/home/liontao/work/data/tdrive/taxi_log_2008_by_id\").glob(\"*.txt\")):\n",
    "    t = read_tdrive(i)\n",
    "    if len(t) > 0:\n",
    "        tasks.append(t)\n",
    "len(tasks)"
   ],
   "metadata": {
    "collapsed": false,
    "ExecuteTime": {
     "start_time": "2023-04-27T22:27:07.901824Z",
     "end_time": "2023-04-27T22:27:21.172610Z"
    }
   }
  },
  {
   "cell_type": "code",
   "execution_count": 162,
   "outputs": [
    {
     "data": {
      "text/plain": "0it [00:00, ?it/s]",
      "application/vnd.jupyter.widget-view+json": {
       "version_major": 2,
       "version_minor": 0,
       "model_id": "cf9308ed55684f3d903c48733cd2d1a2"
      }
     },
     "metadata": {},
     "output_type": "display_data"
    },
    {
     "name": "stdout",
     "output_type": "stream",
     "text": [
      "shape: (1, 3)\n",
      "┌───────────┬───────────┬─────┐\n",
      "│ our       ┆ truth     ┆ hit │\n",
      "│ ---       ┆ ---       ┆ --- │\n",
      "│ f64       ┆ f64       ┆ f64 │\n",
      "╞═══════════╪═══════════╪═════╡\n",
      "│ 1.7879e11 ┆ 1.5529e11 ┆ 0.0 │\n",
      "└───────────┴───────────┴─────┘\n",
      "shape: (1, 3)\n",
      "┌──────┬───────┬──────┐\n",
      "│ our  ┆ truth ┆ hit  │\n",
      "│ ---  ┆ ---   ┆ ---  │\n",
      "│ f64  ┆ f64   ┆ f64  │\n",
      "╞══════╪═══════╪══════╡\n",
      "│ null ┆ null  ┆ null │\n",
      "└──────┴───────┴──────┘\n"
     ]
    }
   ],
   "source": [
    "import random\n",
    "import math\n",
    "import pathlib\n",
    "from tqdm.contrib.concurrent import process_map\n",
    "import polars as pl\n",
    "from itertools import combinations\n",
    "\n",
    "size = 5\n",
    "WINDOW = 5000\n",
    "step = 300\n",
    "\n",
    "rad = math.pi / 180.0\n",
    "R = 6378137.0\n",
    "\n",
    "\n",
    "def discret_frechet(t0, t1):\n",
    "    \"\"\"\n",
    "    Usage\n",
    "    -----\n",
    "    Compute the discret frechet distance between trajectories P and Q\n",
    "\n",
    "    Parameters\n",
    "    ----------\n",
    "    param t0 : px2 numpy_array, Trajectory t0\n",
    "    param t1 : qx2 numpy_array, Trajectory t1\n",
    "\n",
    "    Returns\n",
    "    -------\n",
    "    frech : float, the discret frechet distance between trajectories t0 and t1\n",
    "    \"\"\"\n",
    "    n0 = len(t0)\n",
    "    n1 = len(t1)\n",
    "    C = np.zeros((n0 + 1, n1 + 1))\n",
    "    C[1:, 0] = float('inf')\n",
    "    C[0, 1:] = float('inf')\n",
    "    for i in range(1, n0 + 1):\n",
    "        for j in range(1, n1 + 1):\n",
    "            C[i, j] = max(gpsdist(t0[i - 1], t1[j - 1]), min(C[i, j - 1], C[i - 1, j - 1], C[i - 1, j]))\n",
    "    dtw = C[n0, n1]\n",
    "    return dtw\n",
    "\n",
    "\n",
    "def great_circle_distance_gps(lon1, lat1, lon2, lat2):\n",
    "    dlat = rad * (lat2 - lat1)\n",
    "    dlon = rad * (lon2 - lon1)\n",
    "    a = (math.sin(dlat / 2.0) * math.sin(dlat / 2.0) +\n",
    "         math.cos(rad * lat1) * math.cos(rad * lat2) *\n",
    "         math.sin(dlon / 2.0) * math.sin(dlon / 2.0))\n",
    "    c = 2 * math.atan2(math.sqrt(a), math.sqrt(1 - a))\n",
    "    d = R * c\n",
    "    return d\n",
    "\n",
    "\n",
    "def gpsdist(a, b):\n",
    "    return great_circle_distance_gps(a[0], a[1], b[0], b[1])\n",
    "\n",
    "\n",
    "def bench_one(task):\n",
    "    a, b = task\n",
    "    t1 = time.perf_counter_ns()\n",
    "    truth = discret_frechet(a[step:step + WINDOW], b[step:step + WINDOW])\n",
    "    t2 = time.perf_counter_ns()\n",
    "    our = STFrechet(a[:WINDOW], b[:WINDOW], gpsdist)\n",
    "    t3 = time.perf_counter_ns()\n",
    "    _, hit = our.move(step, step, a[WINDOW:WINDOW + step], b[WINDOW:WINDOW + step])\n",
    "    t4 = time.perf_counter_ns()\n",
    "    return {\"our\": t4 - t3, \"truth\": t2 - t1, \"hit\": hit}\n",
    "\n",
    "\n",
    "# bench_one((tasks[0],tasks[1]))\n",
    "# candidates = random.sample(tasks, size)\n",
    "candidates = list(filter(lambda x:len(x)>6000,tasks))[:size]\n",
    "data = process_map(bench_one, combinations(candidates, 2), max_workers=10)\n",
    "stat = pl.from_dicts(data)\n",
    "print(stat.mean())\n",
    "print(stat.filter(pl.col(\"hit\") == True).mean())\n"
   ],
   "metadata": {
    "collapsed": false,
    "ExecuteTime": {
     "start_time": "2023-04-30T13:41:13.992261Z",
     "end_time": "2023-04-30T13:50:17.873019Z"
    }
   }
  },
  {
   "cell_type": "code",
   "execution_count": 48,
   "outputs": [
    {
     "name": "stdout",
     "output_type": "stream",
     "text": [
      "CPU times: user 804 ms, sys: 0 ns, total: 804 ms\n",
      "Wall time: 815 ms\n",
      "CPU times: user 836 ms, sys: 0 ns, total: 836 ms\n",
      "Wall time: 836 ms\n"
     ]
    },
    {
     "data": {
      "text/plain": "14024.432139196728"
     },
     "execution_count": 48,
     "metadata": {},
     "output_type": "execute_result"
    }
   ],
   "source": [
    "%time discret_frechet(tasks[3][1:WINDOW], tasks[1][1:WINDOW])\n",
    "our = STFrechet(tasks[3][:WINDOW], tasks[1][:WINDOW], gpsdist)\n",
    "%time our.move(1, 1)"
   ],
   "metadata": {
    "collapsed": false,
    "ExecuteTime": {
     "start_time": "2023-04-27T19:26:13.026634Z",
     "end_time": "2023-04-27T19:26:15.535150Z"
    }
   }
  },
  {
   "cell_type": "code",
   "execution_count": 38,
   "outputs": [
    {
     "name": "stdout",
     "output_type": "stream",
     "text": [
      "CPU times: user 616 µs, sys: 4 µs, total: 620 µs\n",
      "Wall time: 454 µs\n",
      "CPU times: user 391 µs, sys: 3 µs, total: 394 µs\n",
      "Wall time: 370 µs\n"
     ]
    },
    {
     "data": {
      "text/plain": "130.0"
     },
     "execution_count": 38,
     "metadata": {},
     "output_type": "execute_result"
    }
   ],
   "source": [
    "def discret_frechet(t0, t1):\n",
    "    \"\"\"\n",
    "    Usage\n",
    "    -----\n",
    "    Compute the discret frechet distance between trajectories P and Q\n",
    "    Parameters\n",
    "    ----------\n",
    "    param t0 : px2 numpy_array, Trajectory t0\n",
    "    param t1 : qx2 numpy_array, Trajectory t1\n",
    "    Returns\n",
    "    -------\n",
    "    frech : float, the discret frechet distance between trajectories t0 and t1\n",
    "    \"\"\"\n",
    "    n0 = len(t0)\n",
    "    n1 = len(t1)\n",
    "    C = np.zeros((n0 + 1, n1 + 1))\n",
    "    C[1:, 0] = float('inf')\n",
    "    C[0, 1:] = float('inf')\n",
    "    for i in np.arange(n0) + 1:\n",
    "        for j in np.arange(n1) + 1:\n",
    "            C[i, j] = max(euclidean(t0[i - 1], t1[j - 1]), min(C[i, j - 1], C[i - 1, j - 1], C[i - 1, j]))\n",
    "    dtw = C[n0, n1]\n",
    "    return dtw\n",
    "\n",
    "\n",
    "a = np.asarray([[197],\n",
    "                [188],\n",
    "                [152],\n",
    "                [144],\n",
    "                [164]])\n",
    "b = np.asarray([[43],\n",
    "                [45],\n",
    "                [137],\n",
    "                [14],\n",
    "                [139]])\n",
    "%time _=discret_frechet(a[2:], b[2:])\n",
    "hit_out = STFrechet(a[:3], b[:3], euclidean)\n",
    "%time hit_out.move(2, 2, a[3:], b[3:])"
   ],
   "metadata": {
    "collapsed": false,
    "ExecuteTime": {
     "start_time": "2023-04-27T20:03:57.505124Z",
     "end_time": "2023-04-27T20:03:57.535146Z"
    }
   }
  }
 ],
 "metadata": {
  "kernelspec": {
   "display_name": "Python 3 (ipykernel)",
   "language": "python",
   "name": "python3"
  },
  "language_info": {
   "codemirror_mode": {
    "name": "ipython",
    "version": 3
   },
   "file_extension": ".py",
   "mimetype": "text/x-python",
   "name": "python",
   "nbconvert_exporter": "python",
   "pygments_lexer": "ipython3",
   "version": "3.10.10"
  }
 },
 "nbformat": 4,
 "nbformat_minor": 1
}
