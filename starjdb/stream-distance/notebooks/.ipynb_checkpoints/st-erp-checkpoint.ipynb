{
 "cells": [
  {
   "cell_type": "code",
   "execution_count": 13,
   "metadata": {
    "ExecuteTime": {
     "end_time": "2023-04-15T21:18:20.626306Z",
     "start_time": "2023-04-15T21:18:20.585831Z"
    },
    "collapsed": true
   },
   "outputs": [],
   "source": [
    "import numpy as np\n",
    "from scipy.spatial.distance import cdist\n",
    "def dist(x,y):\n",
    "    return abs(x-y)\n",
    "\n",
    "\n",
    "######################\n",
    "# Euclidean Geometry #\n",
    "######################\n",
    "\n",
    "def e_erp(t0, t1, g):\n",
    "    \"\"\"\n",
    "    Usage\n",
    "    -----\n",
    "    The Edit distance with Real Penalty between trajectory t0 and t1.\n",
    "    Parameters\n",
    "    ----------\n",
    "    param t0 : len(t0)x2 numpy_array\n",
    "    param t1 : len(t1)x2 numpy_array\n",
    "    Returns\n",
    "    -------\n",
    "    dtw : float\n",
    "          The Dynamic-Time Warping distance between trajectory t0 and t1\n",
    "    \"\"\"\n",
    "\n",
    "    n0 = len(t0)\n",
    "    n1 = len(t1)\n",
    "    C = np.zeros((n0 + 1, n1 + 1))\n",
    "\n",
    "    gt0_dist = [abs(dist(g, x)) for x in t0]\n",
    "    gt1_dist = [abs(dist(g, x)) for x in t1]\n",
    "    mdist = cdist(t0, t1,'euclidean')\n",
    "\n",
    "    C[1:, 0] = sum(gt0_dist)\n",
    "    C[0, 1:] = sum(gt1_dist)\n",
    "    for i in np.arange(n0) + 1:\n",
    "        for j in np.arange(n1) + 1:\n",
    "            derp0 = C[i - 1, j] + gt0_dist[i-1]\n",
    "            derp1 = C[i, j - 1] + gt1_dist[j-1]\n",
    "            derp01 = C[i - 1, j - 1] + mdist[i-1, j-1]\n",
    "            C[i, j] = min(derp0, derp1, derp01)\n",
    "    erp = C[n0, n1]\n",
    "    print(C[1:,1:])\n",
    "    return erp"
   ]
  },
  {
   "cell_type": "code",
   "execution_count": 14,
   "metadata": {
    "ExecuteTime": {
     "end_time": "2023-04-15T21:18:20.826668Z",
     "start_time": "2023-04-15T21:18:20.826135Z"
    }
   },
   "outputs": [
    {
     "name": "stdout",
     "output_type": "stream",
     "text": [
      "[[ 4]\n",
      " [ 7]\n",
      " [11]\n",
      " [18]\n",
      " [ 2]]\n",
      "[[ 5]\n",
      " [10]\n",
      " [ 8]\n",
      " [15]\n",
      " [ 2]]\n"
     ]
    }
   ],
   "source": [
    "a=np.random.randint(1,20,(5,1))\n",
    "b=np.random.randint(1,20,(5,1))\n",
    "print(a)\n",
    "print(b)"
   ]
  },
  {
   "cell_type": "code",
   "execution_count": 18,
   "metadata": {
    "ExecuteTime": {
     "end_time": "2023-04-15T21:18:57.233743Z",
     "start_time": "2023-04-15T21:18:57.230820Z"
    }
   },
   "outputs": [
    {
     "name": "stdout",
     "output_type": "stream",
     "text": [
      "[[ 1. 11. 19. 34. 36.]\n",
      " [ 8.  4. 12. 27. 29.]\n",
      " [19.  9.  7. 16. 18.]\n",
      " [37. 27. 19. 10. 12.]\n",
      " [39. 29. 21. 12. 10.]]\n",
      "[[3. 5.]\n",
      " [5. 3.]]\n"
     ]
    },
    {
     "data": {
      "text/plain": [
       "True"
      ]
     },
     "execution_count": 18,
     "metadata": {},
     "output_type": "execute_result"
    }
   ],
   "source": [
    "e_erp(a,b,0)\n",
    "e_erp(a[3:],b[3:],0)==3"
   ]
  },
  {
   "cell_type": "code",
   "execution_count": null,
   "metadata": {},
   "outputs": [],
   "source": []
  }
 ],
 "metadata": {
  "kernelspec": {
   "display_name": "Python 3 (ipykernel)",
   "language": "python",
   "name": "python3"
  },
  "language_info": {
   "codemirror_mode": {
    "name": "ipython",
    "version": 3
   },
   "file_extension": ".py",
   "mimetype": "text/x-python",
   "name": "python",
   "nbconvert_exporter": "python",
   "pygments_lexer": "ipython3",
   "version": "3.10.10"
  }
 },
 "nbformat": 4,
 "nbformat_minor": 1
}
