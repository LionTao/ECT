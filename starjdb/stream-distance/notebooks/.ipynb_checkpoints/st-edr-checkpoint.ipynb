{
 "cells": [
  {
   "cell_type": "code",
   "execution_count": 9,
   "metadata": {
    "ExecuteTime": {
     "end_time": "2023-04-15T21:22:18.990089Z",
     "start_time": "2023-04-15T21:22:18.988366Z"
    },
    "collapsed": true
   },
   "outputs": [],
   "source": [
    "import numpy as np\n",
    "def dist(x,y):\n",
    "    return abs(x-y)\n",
    "def e_edr(t0, t1, eps):\n",
    "    \"\"\"\n",
    "    Usage\n",
    "    -----\n",
    "    The Edit Distance on Real sequence between trajectory t0 and t1.\n",
    "    Parameters\n",
    "    ----------\n",
    "    param t0 : len(t0)x2 numpy_array\n",
    "    param t1 : len(t1)x2 numpy_array\n",
    "    eps : float\n",
    "    Returns\n",
    "    -------\n",
    "    edr : float\n",
    "           The Longuest-Common-Subsequence distance between trajectory t0 and t1\n",
    "    \"\"\"\n",
    "    n0 = len(t0)\n",
    "    n1 = len(t1)\n",
    "    # An (m+1) times (n+1) matrix\n",
    "    C = np.zeros((n0 + 1, n1 + 1))\n",
    "    for i in range(1, n0 + 1):\n",
    "        for j in range(1, n1 + 1):\n",
    "            if dist(t0[i - 1], t1[j - 1]) ==0:\n",
    "                subcost = 0\n",
    "            else:\n",
    "                subcost = 1\n",
    "            C[i][j] = min(C[i][j - 1] + 1, C[i - 1][j] + 1, C[i - 1][j - 1] + subcost)\n",
    "    edr = float(C[n0][n1]) / max([n0, n1])\n",
    "    print(C[1:,1:])\n",
    "    print(C[n0][n1])\n",
    "    return edr"
   ]
  },
  {
   "cell_type": "code",
   "execution_count": 10,
   "metadata": {
    "ExecuteTime": {
     "end_time": "2023-04-15T21:22:19.239029Z",
     "start_time": "2023-04-15T21:22:19.196299Z"
    }
   },
   "outputs": [
    {
     "name": "stdout",
     "output_type": "stream",
     "text": [
      "[[16]\n",
      " [ 1]\n",
      " [ 9]\n",
      " [18]\n",
      " [12]]\n",
      "[[12]\n",
      " [18]\n",
      " [15]\n",
      " [19]\n",
      " [ 5]]\n"
     ]
    }
   ],
   "source": [
    "a=np.random.randint(1,20,(5,1))\n",
    "b=np.random.randint(1,20,(5,1))\n",
    "print(a)\n",
    "print(b)"
   ]
  },
  {
   "cell_type": "code",
   "execution_count": null,
   "metadata": {},
   "outputs": [],
   "source": [
    "e_edr(a,b,0)\n",
    "print(e_edr(a[1:],b,0)==4)\n",
    "print(e_edr(a[1:],b[1:],0)==3)"
   ]
  },
  {
   "cell_type": "code",
   "execution_count": null,
   "metadata": {},
   "outputs": [],
   "source": []
  }
 ],
 "metadata": {
  "kernelspec": {
   "display_name": "Python 3 (ipykernel)",
   "language": "python",
   "name": "python3"
  },
  "language_info": {
   "codemirror_mode": {
    "name": "ipython",
    "version": 3
   },
   "file_extension": ".py",
   "mimetype": "text/x-python",
   "name": "python",
   "nbconvert_exporter": "python",
   "pygments_lexer": "ipython3",
   "version": "3.10.10"
  }
 },
 "nbformat": 4,
 "nbformat_minor": 1
}
