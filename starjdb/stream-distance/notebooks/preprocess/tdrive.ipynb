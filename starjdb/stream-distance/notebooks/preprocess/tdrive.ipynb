{
 "cells": [
  {
   "cell_type": "code",
   "execution_count": 11,
   "metadata": {
    "collapsed": true,
    "ExecuteTime": {
     "start_time": "2023-04-17T16:05:05.667409Z",
     "end_time": "2023-04-17T16:06:54.030043Z"
    }
   },
   "outputs": [
    {
     "data": {
      "text/plain": "  0%|          | 0/10357 [00:00<?, ?it/s]",
      "application/vnd.jupyter.widget-view+json": {
       "version_major": 2,
       "version_minor": 0,
       "model_id": "b14d85b4308c49a3a56edca443c9177d"
      }
     },
     "metadata": {},
     "output_type": "display_data"
    },
    {
     "name": "stdout",
     "output_type": "stream",
     "text": [
      "shape: (17_662_984, 4)\n",
      "┌──────┬─────────────────────┬───────────┬──────────┐\n",
      "│ id   ┆ ts                  ┆ lon       ┆ lat      │\n",
      "│ ---  ┆ ---                 ┆ ---       ┆ ---      │\n",
      "│ i64  ┆ datetime[ms]        ┆ f64       ┆ f64      │\n",
      "╞══════╪═════════════════════╪═══════════╪══════════╡\n",
      "│ 1    ┆ 2008-02-02 15:36:08 ┆ 116.51172 ┆ 39.92123 │\n",
      "│ 1    ┆ 2008-02-02 15:46:08 ┆ 116.51135 ┆ 39.93883 │\n",
      "│ 1    ┆ 2008-02-02 15:46:08 ┆ 116.51135 ┆ 39.93883 │\n",
      "│ 1    ┆ 2008-02-02 15:56:08 ┆ 116.51627 ┆ 39.91034 │\n",
      "│ …    ┆ …                   ┆ …         ┆ …        │\n",
      "│ 9999 ┆ 2008-02-08 17:16:15 ┆ 116.28298 ┆ 39.9974  │\n",
      "│ 9999 ┆ 2008-02-08 17:21:17 ┆ 116.28896 ┆ 39.99235 │\n",
      "│ 9999 ┆ 2008-02-08 17:26:19 ┆ 116.28925 ┆ 39.98273 │\n",
      "│ 9999 ┆ 2008-02-08 17:36:23 ┆ 116.26768 ┆ 39.90663 │\n",
      "└──────┴─────────────────────┴───────────┴──────────┘\n"
     ]
    }
   ],
   "source": [
    "import time\n",
    "\n",
    "import polars as pl\n",
    "import glob\n",
    "from tqdm.autonotebook import tqdm\n",
    "\n",
    "queries = []\n",
    "for file in tqdm(glob.glob(\"/home/liontao/work/data/tdrive/taxi_log_2008_by_id/*.txt\")):\n",
    "    try:\n",
    "        q = pl.read_csv(file,has_header=False,use_pyarrow=True,new_columns=[\"id\",\"ts\",\"lon\",\"lat\"])\n",
    "        queries.append(q)\n",
    "    except:\n",
    "        pass\n",
    "\n",
    "df_vertical_concat = pl.concat(\n",
    "    queries,\n",
    "    how=\"vertical\",\n",
    ")\n",
    "print(df_vertical_concat)"
   ]
  },
  {
   "cell_type": "code",
   "execution_count": 24,
   "outputs": [],
   "source": [
    "df_vertical_concat.write_parquet(\"tdrive.parquet\",use_pyarrow=True)"
   ],
   "metadata": {
    "collapsed": false,
    "ExecuteTime": {
     "start_time": "2023-04-17T17:06:27.508193Z",
     "end_time": "2023-04-17T17:06:28.888173Z"
    }
   }
  },
  {
   "cell_type": "code",
   "execution_count": 22,
   "outputs": [
    {
     "data": {
      "text/plain": "  0%|          | 0/10336 [00:00<?, ?it/s]",
      "application/vnd.jupyter.widget-view+json": {
       "version_major": 2,
       "version_minor": 0,
       "model_id": "f114bb9a3523417eba27fdcef10845b2"
      }
     },
     "metadata": {},
     "output_type": "display_data"
    },
    {
     "name": "stdout",
     "output_type": "stream",
     "text": [
      "shape: (10_336, 3)\n",
      "┌───────┬───────────────────────────────────┬──────┐\n",
      "│ id    ┆ points                            ┆ size │\n",
      "│ ---   ┆ ---                               ┆ ---  │\n",
      "│ i64   ┆ str                               ┆ i64  │\n",
      "╞═══════╪═══════════════════════════════════╪══════╡\n",
      "│ 1     ┆ 116.51172,39.92123;116.51135,39.… ┆ 588  │\n",
      "│ 2     ┆ 116.36422,39.88781;116.37481,39.… ┆ 1674 │\n",
      "│ 3     ┆ 116.35743,39.88957;116.35732,39.… ┆ 1371 │\n",
      "│ 4     ┆ 116.47002,39.90666;116.44422,39.… ┆ 672  │\n",
      "│ …     ┆ …                                 ┆ …    │\n",
      "│ 10354 ┆ 116.40088,39.9877;116.4016,39.99… ┆ 1604 │\n",
      "│ 10355 ┆ 116.39249,39.8817;116.39268,39.8… ┆ 379  │\n",
      "│ 10356 ┆ 116.32789,39.98514;116.31804,39.… ┆ 526  │\n",
      "│ 10357 ┆ 116.45186,39.93225;116.46777,39.… ┆ 734  │\n",
      "└───────┴───────────────────────────────────┴──────┘\n"
     ]
    }
   ],
   "source": [
    "tids = df_vertical_concat[\"id\"].unique()\n",
    "ids=[]\n",
    "points=[]\n",
    "size=[]\n",
    "for id in tqdm(tids):\n",
    "    ids.append(id)\n",
    "    single_traj = df_vertical_concat.filter(pl.col(\"id\")==id).sort(\"ts\")\n",
    "    points.append(\";\".join([\",\".join(map(str,i)) for i in zip(single_traj[\"lon\"],(single_traj[\"lat\"]))]))\n",
    "    size.append(len(single_traj))\n",
    "dita_data = pl.DataFrame({\"id\":ids,\"points\":points,\"size\":size})\n",
    "print(dita_data)"
   ],
   "metadata": {
    "collapsed": false,
    "ExecuteTime": {
     "start_time": "2023-04-17T16:37:41.781670Z",
     "end_time": "2023-04-17T16:40:14.568162Z"
    }
   }
  },
  {
   "cell_type": "code",
   "execution_count": 42,
   "outputs": [
    {
     "data": {
      "text/plain": "590"
     },
     "execution_count": 42,
     "metadata": {},
     "output_type": "execute_result"
    }
   ],
   "source": [
    "dita_data.write_parquet(\"tdrive-dida.parquet\",use_pyarrow=True)\n"
   ],
   "metadata": {
    "collapsed": false,
    "ExecuteTime": {
     "start_time": "2023-04-17T20:15:15.138957Z",
     "end_time": "2023-04-17T20:15:15.218848Z"
    }
   }
  },
  {
   "cell_type": "code",
   "execution_count": 31,
   "outputs": [],
   "source": [
    "with open(\"dita-all.txt\",\"w\") as f:\n",
    "    f.writelines([ i+'\\n' for i in dita_data.sort(\"id\").select(pl.col(\"points\")).to_series().to_list() ])"
   ],
   "metadata": {
    "collapsed": false,
    "ExecuteTime": {
     "start_time": "2023-04-17T17:20:10.220412Z",
     "end_time": "2023-04-17T17:20:10.998800Z"
    }
   }
  },
  {
   "cell_type": "code",
   "execution_count": 51,
   "outputs": [],
   "source": [
    "candidates_id=dita_data.filter(pl.col(\"size\")>3010)[\"id\"].to_list()[:500]\n",
    "with open(\"tdrive-dita-long.txt\",\"w\") as f:\n",
    "    f.writelines([ i+'\\n' for i in dita_data.filter(pl.col(\"id\").is_in(candidates_id)).sort(\"id\").select(pl.col(\"points\")).to_series().to_list() ])"
   ],
   "metadata": {
    "collapsed": false,
    "ExecuteTime": {
     "start_time": "2023-04-17T20:30:16.727435Z",
     "end_time": "2023-04-17T20:30:17.010892Z"
    }
   }
  },
  {
   "cell_type": "code",
   "execution_count": 63,
   "outputs": [
    {
     "data": {
      "text/plain": "shape: (1, 4)\n┌─────┬─────────────────────┬───────────┬──────────┐\n│ id  ┆ ts                  ┆ lon       ┆ lat      │\n│ --- ┆ ---                 ┆ ---       ┆ ---      │\n│ i64 ┆ datetime[ms]        ┆ f64       ┆ f64      │\n╞═════╪═════════════════════╪═══════════╪══════════╡\n│ 10  ┆ 2008-02-02 13:30:44 ┆ 101.60205 ┆ 30.00274 │\n└─────┴─────────────────────┴───────────┴──────────┘",
      "text/html": "<div><style>\n.dataframe > thead > tr > th,\n.dataframe > tbody > tr > td {\n  text-align: right;\n}\n</style>\n<small>shape: (1, 4)</small><table border=\"1\" class=\"dataframe\"><thead><tr><th>id</th><th>ts</th><th>lon</th><th>lat</th></tr><tr><td>i64</td><td>datetime[ms]</td><td>f64</td><td>f64</td></tr></thead><tbody><tr><td>10</td><td>2008-02-02 13:30:44</td><td>101.60205</td><td>30.00274</td></tr></tbody></table></div>"
     },
     "execution_count": 63,
     "metadata": {},
     "output_type": "execute_result"
    }
   ],
   "source": [
    "df_vertical_concat.filter(pl.col(\"id\").is_in(candidates_id).and_(pl.col(\"lon\")>30.0).and_(pl.col(\"lat\")>30.0)).min()"
   ],
   "metadata": {
    "collapsed": false,
    "ExecuteTime": {
     "start_time": "2023-04-17T22:02:41.281839Z",
     "end_time": "2023-04-17T22:02:41.400809Z"
    }
   }
  },
  {
   "cell_type": "markdown",
   "source": [
    "# Geoflink Data"
   ],
   "metadata": {
    "collapsed": false
   }
  },
  {
   "cell_type": "code",
   "execution_count": 99,
   "outputs": [
    {
     "name": "stdout",
     "output_type": "stream",
     "text": [
      "shape: (14_800, 4)\n",
      "┌─────┬───────────────┬───────────┬──────────┐\n",
      "│ id  ┆ ts            ┆ lon       ┆ lat      │\n",
      "│ --- ┆ ---           ┆ ---       ┆ ---      │\n",
      "│ i64 ┆ i64           ┆ f64       ┆ f64      │\n",
      "╞═════╪═══════════════╪═══════════╪══════════╡\n",
      "│ 0   ┆ 1682856577000 ┆ 116.44457 ┆ 39.92157 │\n",
      "│ 1   ┆ 1682856577000 ┆ 116.47983 ┆ 39.97358 │\n",
      "│ 2   ┆ 1682856577000 ┆ 116.40818 ┆ 40.0012  │\n",
      "│ 3   ┆ 1682856577000 ┆ 116.43448 ┆ 39.94692 │\n",
      "│ …   ┆ …             ┆ …         ┆ …        │\n",
      "│ 96  ┆ 1682858782000 ┆ 116.3291  ┆ 39.95485 │\n",
      "│ 97  ┆ 1682858782000 ┆ 116.35037 ┆ 39.89793 │\n",
      "│ 98  ┆ 1682858782000 ┆ 116.45937 ┆ 39.9766  │\n",
      "│ 99  ┆ 1682858782000 ┆ 116.46703 ┆ 39.99748 │\n",
      "└─────┴───────────────┴───────────┴──────────┘\n"
     ]
    }
   ],
   "source": [
    "import polars as pl\n",
    "import time\n",
    "windows=5\n",
    "step=8\n",
    "size=(windows+4*step)*4 # 4points/min\n",
    "with open(\"tdrive-dita-long.txt\") as f:\n",
    "    lines = f.readlines()\n",
    "start = int(time.time())*1000\n",
    "long_trajs=[]\n",
    "for idx,traj in enumerate(lines[:100]):\n",
    "    id = []\n",
    "    ts = []\n",
    "    lon=[]\n",
    "    lat=[]\n",
    "    for step,p in enumerate(traj.strip().split(\";\")):\n",
    "        id.append(idx)\n",
    "        ts.append(start+15000*step)\n",
    "        lon.append(float(p.split(\",\")[0]))\n",
    "        lat.append(float(p.split(\",\")[1]))\n",
    "    long_trajs.append(pl.DataFrame({\"id\":id[:size],\"ts\":ts[:size],\"lon\":lon[:size],\"lat\":lat[:size]}))\n",
    "geoflink_data = pl.concat(\n",
    "    long_trajs,\n",
    "    how=\"vertical\",\n",
    ").sort(\"ts\")\n",
    "print(geoflink_data)"
   ],
   "metadata": {
    "collapsed": false,
    "ExecuteTime": {
     "start_time": "2023-04-30T20:09:37.189183Z",
     "end_time": "2023-04-30T20:09:38.482606Z"
    }
   }
  },
  {
   "cell_type": "code",
   "execution_count": 95,
   "outputs": [],
   "source": [
    "geoflink_data.write_csv(\"tdrive-geoflink-long.txt\",has_header=False)"
   ],
   "metadata": {
    "collapsed": false,
    "ExecuteTime": {
     "start_time": "2023-04-30T16:49:16.378249Z",
     "end_time": "2023-04-30T16:49:16.423272Z"
    }
   }
  },
  {
   "cell_type": "markdown",
   "source": [
    "# DITA pseudo Stream"
   ],
   "metadata": {
    "collapsed": false
   }
  },
  {
   "cell_type": "code",
   "execution_count": 73,
   "outputs": [],
   "source": [
    "# take first 100 traj\n",
    "with open(\"tdrive-dita-long.txt\") as f:\n",
    "    lines = f.readlines()\n",
    "with open(\"tdrive-dita-long-small.txt\",'w') as f:\n",
    "    f.writelines(lines[:100])"
   ],
   "metadata": {
    "collapsed": false,
    "ExecuteTime": {
     "start_time": "2023-04-23T18:24:16.577816Z",
     "end_time": "2023-04-23T18:24:16.628936Z"
    }
   }
  },
  {
   "cell_type": "markdown",
   "source": [
    "# scale"
   ],
   "metadata": {
    "collapsed": false
   }
  },
  {
   "cell_type": "code",
   "execution_count": 102,
   "outputs": [
    {
     "name": "stdout",
     "output_type": "stream",
     "text": [
      "shape: (5_436, 4)\n",
      "┌─────┬───────────────┬───────────┬──────────┐\n",
      "│ id  ┆ ts            ┆ lon       ┆ lat      │\n",
      "│ --- ┆ ---           ┆ ---       ┆ ---      │\n",
      "│ i64 ┆ i64           ┆ f64       ┆ f64      │\n",
      "╞═════╪═══════════════╪═══════════╪══════════╡\n",
      "│ 0   ┆ 1682857440000 ┆ 116.44457 ┆ 39.92157 │\n",
      "│ 1   ┆ 1682857440000 ┆ 116.47983 ┆ 39.97358 │\n",
      "│ 2   ┆ 1682857440000 ┆ 116.40818 ┆ 40.0012  │\n",
      "│ 3   ┆ 1682857440000 ┆ 116.43448 ┆ 39.94692 │\n",
      "│ …   ┆ …             ┆ …         ┆ …        │\n",
      "│ 147 ┆ 1682857965000 ┆ 116.363   ┆ 39.84751 │\n",
      "│ 148 ┆ 1682857965000 ┆ 116.39046 ┆ 39.86599 │\n",
      "│ 149 ┆ 1682857965000 ┆ 116.31125 ┆ 39.97451 │\n",
      "│ 150 ┆ 1682857965000 ┆ 116.2884  ┆ 39.88844 │\n",
      "└─────┴───────────────┴───────────┴──────────┘\n"
     ]
    }
   ],
   "source": [
    "import polars as pl\n",
    "import time\n",
    "windows=5\n",
    "step=1\n",
    "size=(windows+4*step)*4 # 4points/min\n",
    "with open(\"tdrive-dita-long-small.txt\") as f:\n",
    "    lines = f.readlines()\n",
    "start = int(time.time())*1000\n",
    "long_trajs=[]\n",
    "for idx,traj in enumerate(lines):\n",
    "    id = []\n",
    "    ts = []\n",
    "    lon=[]\n",
    "    lat=[]\n",
    "    for step,p in enumerate(traj.strip().split(\";\")):\n",
    "        id.append(idx)\n",
    "        ts.append(start+15000*step)\n",
    "        lon.append(float(p.split(\",\")[0]))\n",
    "        lat.append(float(p.split(\",\")[1]))\n",
    "    long_trajs.append(pl.DataFrame({\"id\":id[:size],\"ts\":ts[:size],\"lon\":lon[:size],\"lat\":lat[:size]}))\n",
    "geoflink_data = pl.concat(\n",
    "    long_trajs,\n",
    "    how=\"vertical\",\n",
    ").sort(\"ts\")\n",
    "print(geoflink_data)"
   ],
   "metadata": {
    "collapsed": false,
    "ExecuteTime": {
     "start_time": "2023-04-30T20:24:00.437277Z",
     "end_time": "2023-04-30T20:24:01.306550Z"
    }
   }
  },
  {
   "cell_type": "code",
   "execution_count": 103,
   "outputs": [],
   "source": [
    "geoflink_data.write_csv(\"tdrive-geoflink-long-small.txt\",has_header=False)"
   ],
   "metadata": {
    "collapsed": false,
    "ExecuteTime": {
     "start_time": "2023-04-30T20:24:06.152738Z",
     "end_time": "2023-04-30T20:24:06.160167Z"
    }
   }
  }
 ],
 "metadata": {
  "kernelspec": {
   "display_name": "Python 3",
   "language": "python",
   "name": "python3"
  },
  "language_info": {
   "codemirror_mode": {
    "name": "ipython",
    "version": 2
   },
   "file_extension": ".py",
   "mimetype": "text/x-python",
   "name": "python",
   "nbconvert_exporter": "python",
   "pygments_lexer": "ipython2",
   "version": "2.7.6"
  }
 },
 "nbformat": 4,
 "nbformat_minor": 0
}
