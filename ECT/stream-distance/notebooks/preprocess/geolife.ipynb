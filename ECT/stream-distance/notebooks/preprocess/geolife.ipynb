{
 "cells": [
  {
   "cell_type": "code",
   "execution_count": 17,
   "metadata": {
    "collapsed": true,
    "ExecuteTime": {
     "start_time": "2023-04-17T23:58:58.632009Z",
     "end_time": "2023-04-18T00:02:21.041148Z"
    }
   },
   "outputs": [
    {
     "data": {
      "text/plain": "  0%|          | 0/18670 [00:00<?, ?it/s]",
      "application/vnd.jupyter.widget-view+json": {
       "version_major": 2,
       "version_minor": 0,
       "model_id": "76416191719e4a1a8a90ab2ce7b60dc3"
      }
     },
     "metadata": {},
     "output_type": "display_data"
    },
    {
     "name": "stdout",
     "output_type": "stream",
     "text": [
      "shape: (18_670, 3)\n",
      "┌────────────────┬───────────────────────────────────┬──────┐\n",
      "│ id             ┆ points                            ┆ size │\n",
      "│ ---            ┆ ---                               ┆ ---  │\n",
      "│ str            ┆ str                               ┆ i64  │\n",
      "╞════════════════╪═══════════════════════════════════╪══════╡\n",
      "│ 20081023025304 ┆ 116.318417,39.984702;116.31845,3… ┆ 908  │\n",
      "│ 20081024020959 ┆ 116.319876,40.008304;116.319962,… ┆ 244  │\n",
      "│ 20081026134407 ┆ 116.370017,39.907414;116.370074,… ┆ 745  │\n",
      "│ 20081027115449 ┆ 116.326757,39.994622;116.326757,… ┆ 50   │\n",
      "│ …              ┆ …                                 ┆ …    │\n",
      "│ 20080206025637 ┆ 112.965233333333,28.16815;112.97… ┆ 49   │\n",
      "│ 20080216080442 ┆ 116.30895,39.9854666666667;116.3… ┆ 33   │\n",
      "│ 20080217010131 ┆ 116.302783333333,39.989933333333… ┆ 61   │\n",
      "│ 20080314025755 ┆ 111.709216666667,40.91815;111.70… ┆ 22   │\n",
      "└────────────────┴───────────────────────────────────┴──────┘\n"
     ]
    }
   ],
   "source": [
    "import polars as pl\n",
    "import glob\n",
    "import os\n",
    "from tqdm.autonotebook import tqdm\n",
    "ids=[]\n",
    "points=[]\n",
    "size=[]\n",
    "for f in tqdm(glob.glob(\"/home/liontao/work/data/geolife/Data/**/Trajectory/*.plt\")):\n",
    "    ids.append(os.path.splitext(os.path.split(f)[-1])[0])\n",
    "    single_traj = pl.read_csv(f, has_header=False, skip_rows=6, new_columns=[\"lat\",\"lon\",\"zero\",\"alt\",\"days\",\"date\",\"time\"], dtypes=[pl.datatypes.Float64, pl.datatypes.Float64, pl.datatypes.Int32, pl.datatypes.Float64, pl.datatypes.Float64, pl.datatypes.Datetime,pl.datatypes.Datetime])\n",
    "    points.append(\";\".join([\",\".join(map(str,i)) for i in zip(single_traj[\"lon\"],(single_traj[\"lat\"]))]))\n",
    "    size.append(len(single_traj[\"lon\"]))\n",
    "geolife_data = pl.DataFrame({\"id\":ids,\"points\":points,\"size\":size})\n",
    "print(geolife_data)"
   ]
  },
  {
   "cell_type": "code",
   "execution_count": 19,
   "outputs": [],
   "source": [
    "with open(\"geolife-dita-long.txt\",\"w\") as f:\n",
    "    f.writelines([ i[0]+'\\n' for i in geolife_data.filter(pl.col(\"size\")>3010).select(\"points\").iter_rows() ])"
   ],
   "metadata": {
    "collapsed": false,
    "ExecuteTime": {
     "start_time": "2023-04-18T00:04:07.552908Z",
     "end_time": "2023-04-18T00:04:08.077943Z"
    }
   }
  },
  {
   "cell_type": "markdown",
   "source": [
    "# Geoflink"
   ],
   "metadata": {
    "collapsed": false
   }
  },
  {
   "cell_type": "code",
   "execution_count": 7,
   "outputs": [
    {
     "name": "stdout",
     "output_type": "stream",
     "text": [
      "shape: (4_400, 4)\n",
      "┌─────┬───────────────┬────────────┬───────────┐\n",
      "│ id  ┆ ts            ┆ lon        ┆ lat       │\n",
      "│ --- ┆ ---           ┆ ---        ┆ ---       │\n",
      "│ i64 ┆ i64           ┆ f64        ┆ f64       │\n",
      "╞═════╪═══════════════╪════════════╪═══════════╡\n",
      "│ 0   ┆ 1682841201000 ┆ 116.311859 ┆ 40.00152  │\n",
      "│ 1   ┆ 1682841201000 ┆ 116.315632 ┆ 40.008224 │\n",
      "│ 2   ┆ 1682841201000 ┆ 116.322226 ┆ 40.010572 │\n",
      "│ 3   ┆ 1682841201000 ┆ 116.321513 ┆ 40.007907 │\n",
      "│ …   ┆ …             ┆ …          ┆ …         │\n",
      "│ 96  ┆ 1682841846000 ┆ 116.324206 ┆ 40.006219 │\n",
      "│ 97  ┆ 1682841846000 ┆ 121.52614  ┆ 38.928291 │\n",
      "│ 98  ┆ 1682841846000 ┆ 121.527505 ┆ 38.92811  │\n",
      "│ 99  ┆ 1682841846000 ┆ 116.324122 ┆ 40.005258 │\n",
      "└─────┴───────────────┴────────────┴───────────┘\n"
     ]
    }
   ],
   "source": [
    "import polars as pl\n",
    "import time\n",
    "size=44 # 4points/min\n",
    "with open(\"geolife-dita-long.txt\") as f:\n",
    "    lines = f.readlines()\n",
    "start = int(time.time())*1000\n",
    "long_trajs=[]\n",
    "for idx,traj in enumerate(lines[:100]):\n",
    "    id = []\n",
    "    ts = []\n",
    "    lon=[]\n",
    "    lat=[]\n",
    "    for step,p in enumerate(traj.strip().split(\";\")):\n",
    "        id.append(idx)\n",
    "        ts.append(start+15000*step)\n",
    "        lon.append(float(p.split(\",\")[0]))\n",
    "        lat.append(float(p.split(\",\")[1]))\n",
    "    long_trajs.append(pl.DataFrame({\"id\":id[:size],\"ts\":ts[:size],\"lon\":lon[:size],\"lat\":lat[:size]}))\n",
    "geoflink_data = pl.concat(\n",
    "    long_trajs,\n",
    "    how=\"vertical\",\n",
    ").sort(\"ts\")\n",
    "print(geoflink_data)"
   ],
   "metadata": {
    "collapsed": false,
    "ExecuteTime": {
     "start_time": "2023-04-30T15:53:21.339586Z",
     "end_time": "2023-04-30T15:53:21.861608Z"
    }
   }
  },
  {
   "cell_type": "code",
   "execution_count": 8,
   "outputs": [],
   "source": [
    "geoflink_data.write_csv(\"geolife-geoflink-long.txt\",has_header=False)"
   ],
   "metadata": {
    "collapsed": false,
    "ExecuteTime": {
     "start_time": "2023-04-30T15:53:22.340057Z",
     "end_time": "2023-04-30T15:53:22.344663Z"
    }
   }
  }
 ],
 "metadata": {
  "kernelspec": {
   "display_name": "Python 3",
   "language": "python",
   "name": "python3"
  },
  "language_info": {
   "codemirror_mode": {
    "name": "ipython",
    "version": 2
   },
   "file_extension": ".py",
   "mimetype": "text/x-python",
   "name": "python",
   "nbconvert_exporter": "python",
   "pygments_lexer": "ipython2",
   "version": "2.7.6"
  }
 },
 "nbformat": 4,
 "nbformat_minor": 0
}
