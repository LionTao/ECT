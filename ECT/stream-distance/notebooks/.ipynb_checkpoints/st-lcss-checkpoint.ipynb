{
 "cells": [
  {
   "cell_type": "code",
   "execution_count": 20,
   "metadata": {
    "ExecuteTime": {
     "end_time": "2023-04-15T20:55:26.954581Z",
     "start_time": "2023-04-15T20:55:26.911097Z"
    },
    "collapsed": true
   },
   "outputs": [],
   "source": [
    "import numpy as np\n",
    "def dist(x,y):\n",
    "    return abs(x-y)\n",
    "def e_lcss(t0, t1, eps):\n",
    "    \"\"\"\n",
    "    Usage\n",
    "    -----\n",
    "    The Longuest-Common-Subsequence distance between trajectory t0 and t1.\n",
    "    Parameters\n",
    "    ----------\n",
    "    param t0 : len(t0)x2 numpy_array\n",
    "    param t1 : len(t1)x2 numpy_array\n",
    "    eps : float\n",
    "    Returns\n",
    "    -------\n",
    "    lcss : float\n",
    "           The Longuest-Common-Subsequence distance between trajectory t0 and t1\n",
    "    \"\"\"\n",
    "    n0 = len(t0)\n",
    "    n1 = len(t1)\n",
    "    # An (m+1) times (n+1) matrix\n",
    "    C = np.zeros((n0 + 1, n1 + 1))\n",
    "    for i in range(1, n0 + 1):\n",
    "        for j in range(1, n1 + 1):\n",
    "            if dist(t0[i - 1], t1[j - 1]) == 0:\n",
    "                C[i][j] = C[i - 1][j - 1] + 1\n",
    "            else:\n",
    "                C[i][j] = max(C[i][j - 1], C[i - 1][j])\n",
    "    lcss = 1 - float(C[n0][n1]) / min([n0, n1])\n",
    "    print(C[1:,1:])\n",
    "    print(C[n0][n1])\n",
    "    return lcss"
   ]
  },
  {
   "cell_type": "code",
   "execution_count": 24,
   "metadata": {
    "ExecuteTime": {
     "end_time": "2023-04-15T20:58:22.015232Z",
     "start_time": "2023-04-15T20:58:22.011010Z"
    }
   },
   "outputs": [
    {
     "name": "stdout",
     "output_type": "stream",
     "text": [
      "[[0. 0. 0. 0. 0. 0. 0.]\n",
      " [0. 1. 1. 1. 1. 1. 1.]\n",
      " [1. 1. 2. 2. 2. 2. 2.]\n",
      " [1. 1. 2. 3. 3. 3. 3.]\n",
      " [1. 1. 2. 3. 3. 3. 3.]\n",
      " [1. 1. 2. 3. 3. 3. 3.]\n",
      " [1. 1. 2. 3. 3. 3. 3.]]\n",
      "3.0\n",
      "[[1. 1. 1. 1.]\n",
      " [1. 1. 1. 1.]\n",
      " [1. 1. 1. 1.]\n",
      " [1. 1. 1. 1.]]\n",
      "1.0\n"
     ]
    },
    {
     "data": {
      "text/plain": [
       "0.75"
      ]
     },
     "execution_count": 24,
     "metadata": {},
     "output_type": "execute_result"
    }
   ],
   "source": [
    "a=[6,1,2,3,4,5,6]\n",
    "b=[2,1,2,3,10,33,2]\n",
    "e_lcss(a,b,0)\n",
    "e_lcss(a[3:],b[3:],0)"
   ]
  },
  {
   "cell_type": "code",
   "execution_count": null,
   "metadata": {},
   "outputs": [],
   "source": []
  }
 ],
 "metadata": {
  "kernelspec": {
   "display_name": "Python 3 (ipykernel)",
   "language": "python",
   "name": "python3"
  },
  "language_info": {
   "codemirror_mode": {
    "name": "ipython",
    "version": 3
   },
   "file_extension": ".py",
   "mimetype": "text/x-python",
   "name": "python",
   "nbconvert_exporter": "python",
   "pygments_lexer": "ipython3",
   "version": "3.10.10"
  }
 },
 "nbformat": 4,
 "nbformat_minor": 1
}
