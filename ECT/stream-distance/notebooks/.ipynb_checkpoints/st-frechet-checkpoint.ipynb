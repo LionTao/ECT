{
 "cells": [
  {
   "cell_type": "code",
   "execution_count": 11,
   "metadata": {
    "ExecuteTime": {
     "end_time": "2023-04-15T20:38:26.676595Z",
     "start_time": "2023-04-15T20:38:26.674522Z"
    },
    "collapsed": true
   },
   "outputs": [],
   "source": [
    "import numpy as np\n",
    "\n",
    "def dist(x,y):\n",
    "    return abs(x-y)\n",
    "\n",
    "\n",
    "def discret_frechet(t0, t1):\n",
    "    \"\"\"\n",
    "    Usage\n",
    "    -----\n",
    "    Compute the discret frechet distance between trajectories P and Q\n",
    "    Parameters\n",
    "    ----------\n",
    "    param t0 : px2 numpy_array, Trajectory t0\n",
    "    param t1 : qx2 numpy_array, Trajectory t1\n",
    "    Returns\n",
    "    -------\n",
    "    frech : float, the discret frechet distance between trajectories t0 and t1\n",
    "    \"\"\"\n",
    "    n0 = len(t0)\n",
    "    n1 = len(t1)\n",
    "    C = np.zeros((n0 + 1, n1 + 1))\n",
    "    C[1:, 0] = float('inf')\n",
    "    C[0, 1:] = float('inf')\n",
    "    for i in np.arange(n0) + 1:\n",
    "        for j in np.arange(n1) + 1:\n",
    "            C[i, j] = max(dist(t0[i - 1], t1[j - 1]),\n",
    "                          min(\n",
    "                              C[i, j - 1],\n",
    "                              C[i - 1, j - 1],\n",
    "                              C[i - 1, j]\n",
    "                          ))\n",
    "    dtw = C[n0, n1]\n",
    "    print(C)\n",
    "    return dtw"
   ]
  },
  {
   "cell_type": "code",
   "execution_count": 16,
   "metadata": {
    "ExecuteTime": {
     "end_time": "2023-04-15T20:42:42.740006Z",
     "start_time": "2023-04-15T20:42:42.737855Z"
    }
   },
   "outputs": [
    {
     "name": "stdout",
     "output_type": "stream",
     "text": [
      "[ 4 10 11  1 18  5  3]\n",
      "[14 18 14  1  2]\n"
     ]
    }
   ],
   "source": [
    "a=np.random.randint(1,20,np.random.randint(5,10))\n",
    "b=np.random.randint(1,20,np.random.randint(5,10))\n",
    "print(a)\n",
    "print(b)"
   ]
  },
  {
   "cell_type": "code",
   "execution_count": 18,
   "metadata": {
    "ExecuteTime": {
     "end_time": "2023-04-15T20:43:39.384070Z",
     "start_time": "2023-04-15T20:43:39.380994Z"
    }
   },
   "outputs": [
    {
     "name": "stdout",
     "output_type": "stream",
     "text": [
      "[[ 0. inf inf inf inf inf]\n",
      " [inf 10. 14. 14. 14. 14.]\n",
      " [inf 10. 10. 10. 10. 10.]\n",
      " [inf 10. 10. 10. 10. 10.]\n",
      " [inf 13. 17. 13. 10. 10.]\n",
      " [inf 13. 13. 13. 17. 16.]\n",
      " [inf 13. 13. 13. 13. 13.]\n",
      " [inf 13. 15. 13. 13. 13.]]\n",
      "[[ 0. inf inf inf inf inf]\n",
      " [inf 13. 17. 17. 17. 17.]\n",
      " [inf 13. 13. 13. 17. 17.]\n",
      " [inf 13. 13. 13. 13. 13.]\n",
      " [inf 13. 15. 13. 13. 13.]]\n"
     ]
    },
    {
     "data": {
      "text/plain": [
       "True"
      ]
     },
     "execution_count": 18,
     "metadata": {},
     "output_type": "execute_result"
    }
   ],
   "source": [
    "origin=discret_frechet(a,b)\n",
    "slice=discret_frechet(a[3:],b)\n",
    "slice==13"
   ]
  },
  {
   "cell_type": "code",
   "execution_count": null,
   "metadata": {},
   "outputs": [],
   "source": []
  }
 ],
 "metadata": {
  "kernelspec": {
   "display_name": "Python 3 (ipykernel)",
   "language": "python",
   "name": "python3"
  },
  "language_info": {
   "codemirror_mode": {
    "name": "ipython",
    "version": 3
   },
   "file_extension": ".py",
   "mimetype": "text/x-python",
   "name": "python",
   "nbconvert_exporter": "python",
   "pygments_lexer": "ipython3",
   "version": "3.10.10"
  }
 },
 "nbformat": 4,
 "nbformat_minor": 1
}
